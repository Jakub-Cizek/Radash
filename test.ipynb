{
 "cells": [
  {
   "cell_type": "code",
   "execution_count": 1,
   "id": "bfc08b41-3169-4326-a479-72aa83f47a8d",
   "metadata": {},
   "outputs": [],
   "source": [
    "import numpy as np\n",
    "import matplotlib.pyplot as plt\n",
    "import radash as r"
   ]
  },
  {
   "cell_type": "code",
   "execution_count": 2,
   "id": "75b540b1-f012-49c9-8f29-fa709a9afd67",
   "metadata": {},
   "outputs": [
    {
     "name": "stdout",
     "output_type": "stream",
     "text": [
      "material: HfNbTaTiZr\n",
      "number of constituents: 5\n",
      "Nb 41 0.167\n",
      "Ta 73 0.167\n",
      "Ti 22 0.167\n",
      "V  23 0.333\n",
      "Zr 40 0.167\n",
      "units: atomic\n"
     ]
    }
   ],
   "source": [
    "hea1=r.Material('HfNbTaTiZr',['Nb','Ta','Ti','V','Zr'],[1,1,1,2,1],units='atomic') "
   ]
  },
  {
   "cell_type": "code",
   "execution_count": 3,
   "id": "631df623-f16d-43eb-a48b-0fa2700d2a51",
   "metadata": {},
   "outputs": [
    {
     "name": "stdout",
     "output_type": "stream",
     "text": [
      "effective Z number: 37.000\n"
     ]
    }
   ],
   "source": [
    "hea1.get_Zeff()"
   ]
  },
  {
   "cell_type": "code",
   "execution_count": 4,
   "id": "cb330fda-bb2c-405a-8f8f-58b4894450dd",
   "metadata": {},
   "outputs": [
    {
     "name": "stdout",
     "output_type": "stream",
     "text": [
      "Nb 8.580 g/cm3\n",
      "Ta 16.680 g/cm3\n",
      "Ti 4.500 g/cm3\n",
      "V  6.120 g/cm3\n",
      "Zr 6.510 g/cm3\n",
      "composition weighted mean density: 1.737 g/cm3\n"
     ]
    }
   ],
   "source": [
    "hea1.get_density()"
   ]
  },
  {
   "cell_type": "code",
   "execution_count": 5,
   "id": "22ebd863-6d26-486c-8eee-1909de47e03b",
   "metadata": {},
   "outputs": [
    {
     "name": "stdout",
     "output_type": "stream",
     "text": [
      "Nb 1.429 A\n",
      "Ta 1.430 A\n",
      "Ti 1.462 A\n",
      "V  1.316 A\n",
      "Zr 1.603 A\n",
      "composition weighted mean atomic radius: 0.885 A\n",
      "atomic misfit parameter: 62.077 %\n"
     ]
    }
   ],
   "source": [
    "hea1.get_delta()"
   ]
  },
  {
   "cell_type": "code",
   "execution_count": 6,
   "id": "3a840953-67a6-4409-ba11-9d6549b31f09",
   "metadata": {},
   "outputs": [
    {
     "name": "stdout",
     "output_type": "stream",
     "text": [
      "configurational entropy: 1.561 k\n"
     ]
    }
   ],
   "source": [
    "hea1.get_entropy()"
   ]
  },
  {
   "cell_type": "code",
   "execution_count": 7,
   "id": "c60c8011-273c-4ce5-ae2c-c2e1e778b9bb",
   "metadata": {},
   "outputs": [
    {
     "name": "stdout",
     "output_type": "stream",
     "text": [
      "Nb 5.000 g/cm3\n",
      "Ta 5.000 g/cm3\n",
      "Ti 4.000 g/cm3\n",
      "V  5.000 g/cm3\n",
      "Zr 4.000 g/cm3\n",
      "composition weighted VEC: 4.667 g/cm3\n"
     ]
    }
   ],
   "source": [
    "hea1.get_VEC()"
   ]
  },
  {
   "cell_type": "code",
   "execution_count": 8,
   "id": "4a2bb8fa-fd67-4f1a-bc22-74ac76a7da13",
   "metadata": {},
   "outputs": [
    {
     "name": "stdout",
     "output_type": "stream",
     "text": [
      "error: no data for neutron cross-section of element V\n",
      "Nb 1.150 barn\n",
      "Ta 20.500 barn\n",
      "Ti 6.100 barn\n",
      "V  0.000 barn\n",
      "Zr 0.184 barn\n",
      "composition weighted neutron cross-section: 4.656 barn\n"
     ]
    }
   ],
   "source": [
    "hea1.get_neutron_cross_section()"
   ]
  },
  {
   "cell_type": "code",
   "execution_count": null,
   "id": "6411e786-ab3b-4b30-aade-c5dc0dd32fc8",
   "metadata": {},
   "outputs": [],
   "source": []
  }
 ],
 "metadata": {
  "kernelspec": {
   "display_name": "Python 3 (ipykernel)",
   "language": "python",
   "name": "python3"
  },
  "language_info": {
   "codemirror_mode": {
    "name": "ipython",
    "version": 3
   },
   "file_extension": ".py",
   "mimetype": "text/x-python",
   "name": "python",
   "nbconvert_exporter": "python",
   "pygments_lexer": "ipython3",
   "version": "3.11.7"
  }
 },
 "nbformat": 4,
 "nbformat_minor": 5
}
