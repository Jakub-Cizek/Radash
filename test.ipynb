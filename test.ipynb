{
 "cells": [
  {
   "cell_type": "code",
   "execution_count": 1,
   "id": "bfc08b41-3169-4326-a479-72aa83f47a8d",
   "metadata": {},
   "outputs": [],
   "source": [
    "import numpy as np\n",
    "import matplotlib.pyplot as plt\n",
    "import radash as r"
   ]
  },
  {
   "cell_type": "code",
   "execution_count": 2,
   "id": "75b540b1-f012-49c9-8f29-fa709a9afd67",
   "metadata": {},
   "outputs": [
    {
     "name": "stdout",
     "output_type": "stream",
     "text": [
      "material: HfNbTaTiZr\n",
      "number of constituents: 5\n",
      "Hf 72 0.2\n",
      "Nb 41 0.2\n",
      "Ta 73 0.2\n",
      "Ti 22 0.2\n",
      "Zr 40 0.2\n",
      "units: atomic\n"
     ]
    }
   ],
   "source": [
    "hea1=r.Material('HfNbTaTiZr',['Hf','Nb','Ta','Ti','Zr'],[1,1,1,1,1],units='atomic') "
   ]
  },
  {
   "cell_type": "code",
   "execution_count": 3,
   "id": "631df623-f16d-43eb-a48b-0fa2700d2a51",
   "metadata": {},
   "outputs": [
    {
     "name": "stdout",
     "output_type": "stream",
     "text": [
      "effective Z number: 49.600\n"
     ]
    }
   ],
   "source": [
    "hea1.get_Zeff()"
   ]
  },
  {
   "cell_type": "code",
   "execution_count": 4,
   "id": "cb330fda-bb2c-405a-8f8f-58b4894450dd",
   "metadata": {},
   "outputs": [
    {
     "name": "stdout",
     "output_type": "stream",
     "text": [
      "Hf 13.310 g/cm3\n",
      "Nb 8.570 g/cm3\n",
      "Ta 16.650 g/cm3\n",
      "Ti 4.507 g/cm3\n",
      "Zr 6.511 g/cm3\n",
      "composition weighted mean density: 9.910 g/cm3\n"
     ]
    }
   ],
   "source": [
    "hea1.get_density()"
   ]
  },
  {
   "cell_type": "code",
   "execution_count": 5,
   "id": "22ebd863-6d26-486c-8eee-1909de47e03b",
   "metadata": {},
   "outputs": [
    {
     "name": "stdout",
     "output_type": "stream",
     "text": [
      "Hf 1.560 A\n",
      "Nb 1.440 A\n",
      "Ta 1.430 A\n",
      "Ti 1.450 A\n",
      "Zr 1.590 A\n",
      "composition weighted mean atomic radius: 1.494 A\n",
      "atomic misfit parameter: 4.492 %\n"
     ]
    }
   ],
   "source": [
    "hea1.get_delta()"
   ]
  },
  {
   "cell_type": "code",
   "execution_count": 6,
   "id": "3a840953-67a6-4409-ba11-9d6549b31f09",
   "metadata": {},
   "outputs": [
    {
     "name": "stdout",
     "output_type": "stream",
     "text": [
      "configurational entropy: 1.609 k\n"
     ]
    }
   ],
   "source": [
    "hea1.get_entropy()"
   ]
  },
  {
   "cell_type": "code",
   "execution_count": 7,
   "id": "c60c8011-273c-4ce5-ae2c-c2e1e778b9bb",
   "metadata": {},
   "outputs": [
    {
     "name": "stdout",
     "output_type": "stream",
     "text": [
      "Hf 4.000 g/cm3\n",
      "Nb 5.000 g/cm3\n",
      "Ta 5.000 g/cm3\n",
      "Ti 4.000 g/cm3\n",
      "Zr 4.000 g/cm3\n",
      "composition weighted VEC: 4.400 g/cm3\n"
     ]
    }
   ],
   "source": [
    "hea1.get_VEC()"
   ]
  },
  {
   "cell_type": "code",
   "execution_count": 16,
   "id": "4a2bb8fa-fd67-4f1a-bc22-74ac76a7da13",
   "metadata": {},
   "outputs": [
    {
     "name": "stdout",
     "output_type": "stream",
     "text": [
      "Hf 104.000 barn\n",
      "Nb 1.150 barn\n",
      "Ta 20.500 barn\n",
      "Ti 6.100 barn\n",
      "Zr 0.184 barn\n",
      "composition weighted neutron cross-section: 26.387 barn\n"
     ]
    }
   ],
   "source": [
    "hea1.get_neutron_cross_section()"
   ]
  },
  {
   "cell_type": "code",
   "execution_count": null,
   "id": "6411e786-ab3b-4b30-aade-c5dc0dd32fc8",
   "metadata": {},
   "outputs": [],
   "source": []
  }
 ],
 "metadata": {
  "kernelspec": {
   "display_name": "Python 3 (ipykernel)",
   "language": "python",
   "name": "python3"
  },
  "language_info": {
   "codemirror_mode": {
    "name": "ipython",
    "version": 3
   },
   "file_extension": ".py",
   "mimetype": "text/x-python",
   "name": "python",
   "nbconvert_exporter": "python",
   "pygments_lexer": "ipython3",
   "version": "3.11.7"
  }
 },
 "nbformat": 4,
 "nbformat_minor": 5
}
